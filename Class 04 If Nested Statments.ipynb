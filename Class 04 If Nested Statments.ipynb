{
 "cells": [
  {
   "cell_type": "markdown",
   "id": "f01b9a2c-6c0c-4ebe-824d-4af941ec202b",
   "metadata": {},
   "source": [
    "### If Statements Nested"
   ]
  },
  {
   "cell_type": "code",
   "execution_count": 5,
   "id": "2f8aae90-194b-4333-b834-cdaf502d717e",
   "metadata": {},
   "outputs": [
    {
     "name": "stdout",
     "output_type": "stream",
     "text": [
      "Atleast Matric requires\n"
     ]
    }
   ],
   "source": [
    "matric_pass = False\n",
    "\n",
    "if matric_pass:\n",
    "    print(f\"Can proceed with the Test\")\n",
    "    \n",
    "else:\n",
    "    print(f\"Atleast Matric requires\")"
   ]
  },
  {
   "cell_type": "markdown",
   "id": "2b59e42f-084b-476b-8b42-9be67a03cbad",
   "metadata": {},
   "source": [
    "## Nested IF Else"
   ]
  },
  {
   "cell_type": "code",
   "execution_count": 8,
   "id": "d6666930-44fa-4fd2-a093-bef0afbfe2d2",
   "metadata": {},
   "outputs": [
    {
     "name": "stdout",
     "output_type": "stream",
     "text": [
      "Can proceed with the Test\n"
     ]
    },
    {
     "name": "stdin",
     "output_type": "stream",
     "text": [
      "What is the status of test (pass/fail) fail\n"
     ]
    },
    {
     "name": "stdout",
     "output_type": "stream",
     "text": [
      "You are in waiting list\n"
     ]
    }
   ],
   "source": [
    "matric_pass = True\n",
    "\n",
    "if matric_pass:\n",
    "    print(f\"Can proceed with the Test\")\n",
    "    test_cleared = input(\"What is the status of test (pass/fail)\")\n",
    "    #nested if\n",
    "    if test_cleared == \"pass\":\n",
    "        print(f\"Can Take Admission\")\n",
    "    else:\n",
    "        print(f\"You are in waiting list\")\n",
    "else:\n",
    "    print(f\"Atleast Matric requires\")"
   ]
  },
  {
   "cell_type": "code",
   "execution_count": 26,
   "id": "6146d5fb-03a9-4563-b67f-98fb91364a56",
   "metadata": {},
   "outputs": [
    {
     "name": "stdout",
     "output_type": "stream",
     "text": [
      "Atleast Matric requires\n"
     ]
    }
   ],
   "source": [
    "matric_pass = False\n",
    "test_cleared = False\n",
    "\n",
    "# condition statements\n",
    "\n",
    "''' Multi Line Comments\n",
    "Condtion statement\n",
    "'''\n",
    "\n",
    "if (matric_pass and test_cleared):\n",
    "    print(f\"You can got admission\")\n",
    "elif (matric_pass):\n",
    "    print(f\"You are in waiting list\")\n",
    "else:\n",
    "    print(f\"Atleast Matric requires\")"
   ]
  },
  {
   "cell_type": "code",
   "execution_count": 28,
   "id": "ddc7ab9e-a491-4eb5-b530-32d1527c4963",
   "metadata": {},
   "outputs": [
    {
     "name": "stdin",
     "output_type": "stream",
     "text": [
      "Enter Edctional Status (True/False):  False\n"
     ]
    },
    {
     "name": "stdout",
     "output_type": "stream",
     "text": [
      "You are in waiting list\n"
     ]
    }
   ],
   "source": [
    "matric_pass = bool(input(\"Enter Edctional Status (True/False): \"))\n",
    "test_cleared = False\n",
    "\n",
    "# condition statements\n",
    "\n",
    "''' Multi Line Comments\n",
    "Condtion statement\n",
    "'''\n",
    "\n",
    "if (matric_pass and test_cleared):\n",
    "    print(f\"You can got admission\")\n",
    "elif (matric_pass):\n",
    "    print(f\"You are in waiting list\")\n",
    "else:\n",
    "    print(f\"Atleast Matric requires\")"
   ]
  },
  {
   "cell_type": "markdown",
   "id": "08b87973-7b1c-4d58-9822-b2d5b0888f3f",
   "metadata": {},
   "source": [
    "## Lists (Data Structure)\n",
    "\n",
    "Problem: Can't store similar types values in variables <br>\n",
    "Solution: List introduction a way to store same collection of values"
   ]
  },
  {
   "cell_type": "code",
   "execution_count": 29,
   "id": "2896a341-0ef2-4d45-9908-e65b90e727c9",
   "metadata": {},
   "outputs": [],
   "source": [
    "city_0 = \"Atlanta\"\n",
    "city_1 = \"Baltimore\"\n",
    "city_2 = \"Chicago\"\n",
    "city_3 = \"Denver\"\n",
    "city_4 = \"Los Angeles\"\n",
    "city_5 = \"Seattle\""
   ]
  },
  {
   "cell_type": "code",
   "execution_count": 31,
   "id": "237f39dd-dd67-422e-9758-12336179da00",
   "metadata": {},
   "outputs": [],
   "source": [
    "#Syntax f list:\n",
    "#list_name = [ value1, values2]"
   ]
  },
  {
   "cell_type": "code",
   "execution_count": 32,
   "id": "26e5419a-0186-4fd9-b45d-739e00f60a60",
   "metadata": {},
   "outputs": [],
   "source": [
    "#            0           1           2         3            4             5\n",
    "cities = [\"Atlanta\", \"Baltimore\", \"Chicago\", \"Denver\", \"Los Angeles\", \"Seattle\"]\n",
    "#         -6           -5           -4         -3            -2             -1"
   ]
  },
  {
   "cell_type": "code",
   "execution_count": 37,
   "id": "706cd019-8870-41ec-8384-f364d70971f3",
   "metadata": {},
   "outputs": [
    {
     "data": {
      "text/plain": [
       "'Baltimore'"
      ]
     },
     "execution_count": 37,
     "metadata": {},
     "output_type": "execute_result"
    }
   ],
   "source": [
    "cities[1]"
   ]
  },
  {
   "cell_type": "code",
   "execution_count": 35,
   "id": "85892b89-d0bf-4895-92a8-61d51129a604",
   "metadata": {},
   "outputs": [
    {
     "data": {
      "text/plain": [
       "'Los Angeles'"
      ]
     },
     "execution_count": 35,
     "metadata": {},
     "output_type": "execute_result"
    }
   ],
   "source": [
    "cities[-2]"
   ]
  },
  {
   "cell_type": "code",
   "execution_count": 36,
   "id": "991b385f-e377-4104-9b41-213bde913c26",
   "metadata": {},
   "outputs": [
    {
     "data": {
      "text/plain": [
       "'Atlanta'"
      ]
     },
     "execution_count": 36,
     "metadata": {},
     "output_type": "execute_result"
    }
   ],
   "source": [
    "cities[0]"
   ]
  },
  {
   "cell_type": "markdown",
   "id": "cb780007-ec5d-4273-a4c8-a6d11cf91087",
   "metadata": {},
   "source": [
    "### Taking Slices out of them"
   ]
  },
  {
   "cell_type": "code",
   "execution_count": 38,
   "id": "555cabc3-bb61-4345-a662-dcc8faff1cc9",
   "metadata": {},
   "outputs": [
    {
     "data": {
      "text/plain": [
       "['Atlanta', 'Baltimore', 'Chicago', 'Denver', 'Los Angeles', 'Seattle']"
      ]
     },
     "execution_count": 38,
     "metadata": {},
     "output_type": "execute_result"
    }
   ],
   "source": [
    "cities"
   ]
  },
  {
   "cell_type": "code",
   "execution_count": 40,
   "id": "b3179a88-6cd4-4731-b76e-4d66085df430",
   "metadata": {},
   "outputs": [
    {
     "data": {
      "text/plain": [
       "['Atlanta', 'Baltimore', 'Chicago']"
      ]
     },
     "execution_count": 40,
     "metadata": {},
     "output_type": "execute_result"
    }
   ],
   "source": [
    "cities[0:3] # Last index excluded"
   ]
  },
  {
   "cell_type": "code",
   "execution_count": 42,
   "id": "ff6f1f83-1c6f-45f0-823d-5ff6e7e443ca",
   "metadata": {},
   "outputs": [
    {
     "data": {
      "text/plain": [
       "['Atlanta', 'Baltimore', 'Chicago']"
      ]
     },
     "execution_count": 42,
     "metadata": {},
     "output_type": "execute_result"
    }
   ],
   "source": [
    "cities[:-3]"
   ]
  },
  {
   "cell_type": "code",
   "execution_count": 44,
   "id": "f004775f-1e42-4d28-8242-96236e5ef971",
   "metadata": {},
   "outputs": [
    {
     "data": {
      "text/plain": [
       "['Chicago', 'Denver']"
      ]
     },
     "execution_count": 44,
     "metadata": {},
     "output_type": "execute_result"
    }
   ],
   "source": [
    "cities[2:4] # First value include last exclude"
   ]
  },
  {
   "cell_type": "code",
   "execution_count": 45,
   "id": "ecbc6554-7560-4bdc-8898-680d6cff5333",
   "metadata": {},
   "outputs": [
    {
     "data": {
      "text/plain": [
       "[]"
      ]
     },
     "execution_count": 45,
     "metadata": {},
     "output_type": "execute_result"
    }
   ],
   "source": [
    "cities[-2:-4]"
   ]
  },
  {
   "cell_type": "code",
   "execution_count": 46,
   "id": "68eeadeb-e263-4865-9731-10beef8a5885",
   "metadata": {},
   "outputs": [
    {
     "data": {
      "text/plain": [
       "['Denver', 'Los Angeles']"
      ]
     },
     "execution_count": 46,
     "metadata": {},
     "output_type": "execute_result"
    }
   ],
   "source": [
    "cities[-3:-1]"
   ]
  },
  {
   "cell_type": "code",
   "execution_count": 47,
   "id": "0ce547ce-fa53-48d9-8bc8-cd64ac76af41",
   "metadata": {},
   "outputs": [
    {
     "data": {
      "text/plain": [
       "['Denver', 'Los Angeles', 'Seattle']"
      ]
     },
     "execution_count": 47,
     "metadata": {},
     "output_type": "execute_result"
    }
   ],
   "source": [
    "cities[-3:]"
   ]
  },
  {
   "cell_type": "code",
   "execution_count": 48,
   "id": "d67bcae5-bec1-442c-a469-d9fb75d8dd36",
   "metadata": {},
   "outputs": [
    {
     "data": {
      "text/plain": [
       "['Atlanta']"
      ]
     },
     "execution_count": 48,
     "metadata": {},
     "output_type": "execute_result"
    }
   ],
   "source": [
    "cities[:1]"
   ]
  },
  {
   "cell_type": "code",
   "execution_count": 57,
   "id": "5a078bc6-58f4-49cb-bcc5-981b45bb4039",
   "metadata": {},
   "outputs": [
    {
     "data": {
      "text/plain": [
       "['Atlanta', 'Chicago', 'Los Angeles']"
      ]
     },
     "execution_count": 57,
     "metadata": {},
     "output_type": "execute_result"
    }
   ],
   "source": [
    "cities[::2] #Skiping the values"
   ]
  },
  {
   "cell_type": "code",
   "execution_count": 56,
   "id": "5fa82b59-a096-46a7-bb1c-debc333230d7",
   "metadata": {},
   "outputs": [
    {
     "data": {
      "text/plain": [
       "['Atlanta', 'Baltimore', 'Chicago', 'Denver', 'Los Angeles', 'Seattle']"
      ]
     },
     "execution_count": 56,
     "metadata": {},
     "output_type": "execute_result"
    }
   ],
   "source": [
    "cities"
   ]
  },
  {
   "cell_type": "code",
   "execution_count": 58,
   "id": "088cb40a-cd1a-41b7-830a-0346add837a3",
   "metadata": {},
   "outputs": [
    {
     "data": {
      "text/plain": [
       "['Seattle', 'Los Angeles', 'Denver', 'Chicago', 'Baltimore', 'Atlanta']"
      ]
     },
     "execution_count": 58,
     "metadata": {},
     "output_type": "execute_result"
    }
   ],
   "source": [
    "cities[::-1] #Reversing"
   ]
  },
  {
   "cell_type": "markdown",
   "id": "27267325-cf64-427f-aaf5-819522ef6294",
   "metadata": {},
   "source": [
    "## Adding & Inserting Values"
   ]
  },
  {
   "cell_type": "code",
   "execution_count": 59,
   "id": "4dc49154-3f41-4891-8276-1fbf789887dc",
   "metadata": {},
   "outputs": [
    {
     "data": {
      "text/plain": [
       "['Atlanta', 'Baltimore', 'Chicago', 'Denver', 'Los Angeles', 'Seattle']"
      ]
     },
     "execution_count": 59,
     "metadata": {},
     "output_type": "execute_result"
    }
   ],
   "source": [
    "cities"
   ]
  },
  {
   "cell_type": "code",
   "execution_count": 61,
   "id": "9cd7fabf-8eb8-4b6c-ac21-e1e0b7649423",
   "metadata": {},
   "outputs": [
    {
     "data": {
      "text/plain": [
       "['__add__',\n",
       " '__class__',\n",
       " '__class_getitem__',\n",
       " '__contains__',\n",
       " '__delattr__',\n",
       " '__delitem__',\n",
       " '__dir__',\n",
       " '__doc__',\n",
       " '__eq__',\n",
       " '__format__',\n",
       " '__ge__',\n",
       " '__getattribute__',\n",
       " '__getitem__',\n",
       " '__getstate__',\n",
       " '__gt__',\n",
       " '__hash__',\n",
       " '__iadd__',\n",
       " '__imul__',\n",
       " '__init__',\n",
       " '__init_subclass__',\n",
       " '__iter__',\n",
       " '__le__',\n",
       " '__len__',\n",
       " '__lt__',\n",
       " '__mul__',\n",
       " '__ne__',\n",
       " '__new__',\n",
       " '__reduce__',\n",
       " '__reduce_ex__',\n",
       " '__repr__',\n",
       " '__reversed__',\n",
       " '__rmul__',\n",
       " '__setattr__',\n",
       " '__setitem__',\n",
       " '__sizeof__',\n",
       " '__str__',\n",
       " '__subclasshook__',\n",
       " 'append',\n",
       " 'clear',\n",
       " 'copy',\n",
       " 'count',\n",
       " 'extend',\n",
       " 'index',\n",
       " 'insert',\n",
       " 'pop',\n",
       " 'remove',\n",
       " 'reverse',\n",
       " 'sort']"
      ]
     },
     "execution_count": 61,
     "metadata": {},
     "output_type": "execute_result"
    }
   ],
   "source": [
    "dir(cities)"
   ]
  },
  {
   "cell_type": "code",
   "execution_count": 62,
   "id": "9e9b3de2-0e38-4614-b8a3-26c8611d4804",
   "metadata": {},
   "outputs": [
    {
     "data": {
      "text/plain": [
       "['Atlanta', 'Baltimore', 'Chicago', 'Denver', 'Los Angeles', 'Seattle']"
      ]
     },
     "execution_count": 62,
     "metadata": {},
     "output_type": "execute_result"
    }
   ],
   "source": [
    "cities"
   ]
  },
  {
   "cell_type": "code",
   "execution_count": 65,
   "id": "c035954a-4eb9-4a6d-8cd7-0c4d414f2db2",
   "metadata": {},
   "outputs": [],
   "source": [
    "cities.append(\"New York City\") #By Default add value at the end of list"
   ]
  },
  {
   "cell_type": "code",
   "execution_count": 64,
   "id": "1acf8373-853c-4ac9-8d16-7181a9aa011e",
   "metadata": {},
   "outputs": [
    {
     "data": {
      "text/plain": [
       "['Atlanta',\n",
       " 'Baltimore',\n",
       " 'Chicago',\n",
       " 'Denver',\n",
       " 'Los Angeles',\n",
       " 'Seattle',\n",
       " 'New York City']"
      ]
     },
     "execution_count": 64,
     "metadata": {},
     "output_type": "execute_result"
    }
   ],
   "source": [
    "cities"
   ]
  },
  {
   "cell_type": "code",
   "execution_count": 66,
   "id": "2c40e911-d354-4d9c-bcdd-93b8b8ba2d52",
   "metadata": {},
   "outputs": [],
   "source": [
    "cities.append(\"Washington\")"
   ]
  },
  {
   "cell_type": "code",
   "execution_count": 67,
   "id": "443d656d-9a9a-47a4-a7ff-fca694bfd14c",
   "metadata": {},
   "outputs": [
    {
     "data": {
      "text/plain": [
       "['Atlanta',\n",
       " 'Baltimore',\n",
       " 'Chicago',\n",
       " 'Denver',\n",
       " 'Los Angeles',\n",
       " 'Seattle',\n",
       " 'New York City',\n",
       " 'New York City',\n",
       " 'Washington']"
      ]
     },
     "execution_count": 67,
     "metadata": {},
     "output_type": "execute_result"
    }
   ],
   "source": [
    "cities"
   ]
  },
  {
   "cell_type": "code",
   "execution_count": 68,
   "id": "15f09335-8aef-43d4-9113-f2aa9c531015",
   "metadata": {},
   "outputs": [],
   "source": [
    "cities.insert(0, \"Texas\")"
   ]
  },
  {
   "cell_type": "code",
   "execution_count": 69,
   "id": "41243fa6-91e1-4bbf-a97d-8e6220a45e9b",
   "metadata": {},
   "outputs": [
    {
     "data": {
      "text/plain": [
       "['Texas',\n",
       " 'Atlanta',\n",
       " 'Baltimore',\n",
       " 'Chicago',\n",
       " 'Denver',\n",
       " 'Los Angeles',\n",
       " 'Seattle',\n",
       " 'New York City',\n",
       " 'New York City',\n",
       " 'Washington']"
      ]
     },
     "execution_count": 69,
     "metadata": {},
     "output_type": "execute_result"
    }
   ],
   "source": [
    "cities"
   ]
  },
  {
   "cell_type": "code",
   "execution_count": 70,
   "id": "19f80a44-f2ba-40b1-859f-913caf89e5b4",
   "metadata": {},
   "outputs": [
    {
     "data": {
      "text/plain": [
       "['Texas',\n",
       " 'Atlanta',\n",
       " 'Baltimore',\n",
       " 'Chicago',\n",
       " 'Denver',\n",
       " 'Los Angeles',\n",
       " 'Seattle',\n",
       " 'New York City',\n",
       " 'New York City',\n",
       " 'Washington',\n",
       " 'Dallas']"
      ]
     },
     "execution_count": 70,
     "metadata": {},
     "output_type": "execute_result"
    }
   ],
   "source": [
    "cities + ['Dallas']"
   ]
  },
  {
   "cell_type": "code",
   "execution_count": 71,
   "id": "fd11ae73-b9b0-44fb-a667-cec3b0f024a3",
   "metadata": {},
   "outputs": [
    {
     "data": {
      "text/plain": [
       "['Texas',\n",
       " 'Atlanta',\n",
       " 'Baltimore',\n",
       " 'Chicago',\n",
       " 'Denver',\n",
       " 'Los Angeles',\n",
       " 'Seattle',\n",
       " 'New York City',\n",
       " 'New York City',\n",
       " 'Washington']"
      ]
     },
     "execution_count": 71,
     "metadata": {},
     "output_type": "execute_result"
    }
   ],
   "source": [
    "cities"
   ]
  },
  {
   "cell_type": "code",
   "execution_count": 72,
   "id": "4eb4b3cc-082b-41b9-b038-a04736beaed4",
   "metadata": {},
   "outputs": [],
   "source": [
    "cities = cities + ['Dallas']"
   ]
  },
  {
   "cell_type": "code",
   "execution_count": 73,
   "id": "1663aac5-d67d-4e6b-b14a-76a228da21aa",
   "metadata": {},
   "outputs": [
    {
     "data": {
      "text/plain": [
       "['Texas',\n",
       " 'Atlanta',\n",
       " 'Baltimore',\n",
       " 'Chicago',\n",
       " 'Denver',\n",
       " 'Los Angeles',\n",
       " 'Seattle',\n",
       " 'New York City',\n",
       " 'New York City',\n",
       " 'Washington',\n",
       " 'Dallas']"
      ]
     },
     "execution_count": 73,
     "metadata": {},
     "output_type": "execute_result"
    }
   ],
   "source": [
    "cities"
   ]
  },
  {
   "cell_type": "markdown",
   "id": "49c91bc0-dbfd-4737-a95d-e9871d587233",
   "metadata": {},
   "source": [
    "### Deleting and Removing Elements"
   ]
  },
  {
   "cell_type": "code",
   "execution_count": 74,
   "id": "ca0c1316-5b86-4a8d-b3cc-3bfcbc7ec0c8",
   "metadata": {},
   "outputs": [
    {
     "data": {
      "text/plain": [
       "['Texas',\n",
       " 'Atlanta',\n",
       " 'Baltimore',\n",
       " 'Chicago',\n",
       " 'Denver',\n",
       " 'Los Angeles',\n",
       " 'Seattle',\n",
       " 'New York City',\n",
       " 'New York City',\n",
       " 'Washington',\n",
       " 'Dallas']"
      ]
     },
     "execution_count": 74,
     "metadata": {},
     "output_type": "execute_result"
    }
   ],
   "source": [
    "cities"
   ]
  },
  {
   "cell_type": "code",
   "execution_count": 75,
   "id": "648ca0e5-a9a0-41b0-a865-f74d3e263ecd",
   "metadata": {},
   "outputs": [],
   "source": [
    "del cities[-3]"
   ]
  },
  {
   "cell_type": "code",
   "execution_count": 76,
   "id": "bf8205cf-118e-4486-b7e8-a1492aa124d2",
   "metadata": {},
   "outputs": [
    {
     "data": {
      "text/plain": [
       "['Texas',\n",
       " 'Atlanta',\n",
       " 'Baltimore',\n",
       " 'Chicago',\n",
       " 'Denver',\n",
       " 'Los Angeles',\n",
       " 'Seattle',\n",
       " 'New York City',\n",
       " 'Washington',\n",
       " 'Dallas']"
      ]
     },
     "execution_count": 76,
     "metadata": {},
     "output_type": "execute_result"
    }
   ],
   "source": [
    "cities"
   ]
  },
  {
   "cell_type": "code",
   "execution_count": 77,
   "id": "a06298e0-4736-45a6-8ec9-b4caad63224e",
   "metadata": {},
   "outputs": [],
   "source": [
    "cities = cities + ['Washington DC']"
   ]
  },
  {
   "cell_type": "code",
   "execution_count": 78,
   "id": "6181542b-3d46-410b-9d67-6eea436c1286",
   "metadata": {},
   "outputs": [
    {
     "data": {
      "text/plain": [
       "['Texas',\n",
       " 'Atlanta',\n",
       " 'Baltimore',\n",
       " 'Chicago',\n",
       " 'Denver',\n",
       " 'Los Angeles',\n",
       " 'Seattle',\n",
       " 'New York City',\n",
       " 'Washington',\n",
       " 'Dallas',\n",
       " 'Washington DC']"
      ]
     },
     "execution_count": 78,
     "metadata": {},
     "output_type": "execute_result"
    }
   ],
   "source": [
    "cities"
   ]
  },
  {
   "cell_type": "code",
   "execution_count": 79,
   "id": "3748c1ba-dd8f-4531-b03c-a7fb1d66d01a",
   "metadata": {},
   "outputs": [],
   "source": [
    "cities.remove('Washington')"
   ]
  },
  {
   "cell_type": "code",
   "execution_count": 80,
   "id": "9490aef7-5392-4ddb-bd68-89af5164348c",
   "metadata": {},
   "outputs": [
    {
     "data": {
      "text/plain": [
       "['Texas',\n",
       " 'Atlanta',\n",
       " 'Baltimore',\n",
       " 'Chicago',\n",
       " 'Denver',\n",
       " 'Los Angeles',\n",
       " 'Seattle',\n",
       " 'New York City',\n",
       " 'Dallas',\n",
       " 'Washington DC']"
      ]
     },
     "execution_count": 80,
     "metadata": {},
     "output_type": "execute_result"
    }
   ],
   "source": [
    "cities"
   ]
  },
  {
   "cell_type": "code",
   "execution_count": 81,
   "id": "d12d1c69-41b2-490c-a06d-c55938c17af8",
   "metadata": {},
   "outputs": [
    {
     "data": {
      "text/plain": [
       "['Texas',\n",
       " 'Atlanta',\n",
       " 'Baltimore',\n",
       " 'Chicago',\n",
       " 'Denver',\n",
       " 'Los Angeles',\n",
       " 'Seattle',\n",
       " 'New York City',\n",
       " 'Dallas',\n",
       " 'Washington DC']"
      ]
     },
     "execution_count": 81,
     "metadata": {},
     "output_type": "execute_result"
    }
   ],
   "source": [
    "cities"
   ]
  },
  {
   "cell_type": "code",
   "execution_count": 83,
   "id": "2d193c06-6267-421e-8814-5ec2eab846a0",
   "metadata": {},
   "outputs": [],
   "source": [
    "cities = cities + ['San Francisco']"
   ]
  },
  {
   "cell_type": "code",
   "execution_count": 84,
   "id": "f620db02-d1de-44bc-96dd-4f9a0f2a8812",
   "metadata": {},
   "outputs": [
    {
     "data": {
      "text/plain": [
       "['Texas',\n",
       " 'Atlanta',\n",
       " 'Baltimore',\n",
       " 'Chicago',\n",
       " 'Denver',\n",
       " 'Los Angeles',\n",
       " 'Seattle',\n",
       " 'New York City',\n",
       " 'Dallas',\n",
       " 'Washington DC',\n",
       " 'San Francisco']"
      ]
     },
     "execution_count": 84,
     "metadata": {},
     "output_type": "execute_result"
    }
   ],
   "source": [
    "cities"
   ]
  },
  {
   "cell_type": "code",
   "execution_count": 86,
   "id": "d5dafe71-0578-489d-8a14-010fb1d77eea",
   "metadata": {},
   "outputs": [],
   "source": [
    "cities.remove('San Francisco')"
   ]
  },
  {
   "cell_type": "code",
   "execution_count": 87,
   "id": "6c37f159-e3e4-4380-8766-9d173fd7cc9c",
   "metadata": {},
   "outputs": [
    {
     "data": {
      "text/plain": [
       "['Texas',\n",
       " 'Atlanta',\n",
       " 'Baltimore',\n",
       " 'Chicago',\n",
       " 'Denver',\n",
       " 'Los Angeles',\n",
       " 'Seattle',\n",
       " 'New York City',\n",
       " 'Dallas',\n",
       " 'Washington DC']"
      ]
     },
     "execution_count": 87,
     "metadata": {},
     "output_type": "execute_result"
    }
   ],
   "source": [
    "cities"
   ]
  },
  {
   "cell_type": "code",
   "execution_count": 88,
   "id": "8955a945-1119-4d8b-89cc-46ac7fdd7a90",
   "metadata": {},
   "outputs": [
    {
     "ename": "SyntaxError",
     "evalue": "cannot delete literal (2699089622.py, line 1)",
     "output_type": "error",
     "traceback": [
      "\u001b[1;36m  Cell \u001b[1;32mIn[88], line 1\u001b[1;36m\u001b[0m\n\u001b[1;33m    del [4]\u001b[0m\n\u001b[1;37m         ^\u001b[0m\n\u001b[1;31mSyntaxError\u001b[0m\u001b[1;31m:\u001b[0m cannot delete literal\n"
     ]
    }
   ],
   "source": [
    "del [4]"
   ]
  },
  {
   "cell_type": "code",
   "execution_count": 89,
   "id": "0ef69ded-1fa3-48c7-b763-05c55b9b17a7",
   "metadata": {},
   "outputs": [],
   "source": [
    "del (cities[4])"
   ]
  },
  {
   "cell_type": "code",
   "execution_count": 90,
   "id": "aba1dfec-8033-43c8-ac49-9c420efff859",
   "metadata": {},
   "outputs": [
    {
     "data": {
      "text/plain": [
       "['Texas',\n",
       " 'Atlanta',\n",
       " 'Baltimore',\n",
       " 'Chicago',\n",
       " 'Los Angeles',\n",
       " 'Seattle',\n",
       " 'New York City',\n",
       " 'Dallas',\n",
       " 'Washington DC']"
      ]
     },
     "execution_count": 90,
     "metadata": {},
     "output_type": "execute_result"
    }
   ],
   "source": [
    "cities"
   ]
  },
  {
   "cell_type": "markdown",
   "id": "770eb236-b983-4282-acf0-cf9549e8c894",
   "metadata": {},
   "source": [
    "### Popping Values from List"
   ]
  },
  {
   "cell_type": "code",
   "execution_count": 91,
   "id": "c68680ce-ca01-4bde-8654-e6c5d6fdc7da",
   "metadata": {},
   "outputs": [
    {
     "data": {
      "text/plain": [
       "['Texas',\n",
       " 'Atlanta',\n",
       " 'Baltimore',\n",
       " 'Chicago',\n",
       " 'Los Angeles',\n",
       " 'Seattle',\n",
       " 'New York City',\n",
       " 'Dallas',\n",
       " 'Washington DC']"
      ]
     },
     "execution_count": 91,
     "metadata": {},
     "output_type": "execute_result"
    }
   ],
   "source": [
    "cities"
   ]
  },
  {
   "cell_type": "code",
   "execution_count": 92,
   "id": "1ebc992a-bc54-4902-aa32-b69de1064f92",
   "metadata": {},
   "outputs": [],
   "source": [
    "holding_pop_city = cities.pop() #Value will remove from list & store in variable"
   ]
  },
  {
   "cell_type": "code",
   "execution_count": 93,
   "id": "77e9f381-5e78-436a-9c4a-e171e9033e72",
   "metadata": {},
   "outputs": [
    {
     "data": {
      "text/plain": [
       "['Texas',\n",
       " 'Atlanta',\n",
       " 'Baltimore',\n",
       " 'Chicago',\n",
       " 'Los Angeles',\n",
       " 'Seattle',\n",
       " 'New York City',\n",
       " 'Dallas']"
      ]
     },
     "execution_count": 93,
     "metadata": {},
     "output_type": "execute_result"
    }
   ],
   "source": [
    "cities"
   ]
  },
  {
   "cell_type": "code",
   "execution_count": 94,
   "id": "32d6c882-46cd-4763-884c-a4f22b9ac457",
   "metadata": {},
   "outputs": [
    {
     "name": "stdout",
     "output_type": "stream",
     "text": [
      "Holding_pop_city\n"
     ]
    }
   ],
   "source": [
    "print(\"Holding_pop_city\")"
   ]
  },
  {
   "cell_type": "code",
   "execution_count": 95,
   "id": "715add90-3695-45ee-976f-291bb10aa5e7",
   "metadata": {},
   "outputs": [
    {
     "data": {
      "text/plain": [
       "['Texas',\n",
       " 'Atlanta',\n",
       " 'Baltimore',\n",
       " 'Chicago',\n",
       " 'Los Angeles',\n",
       " 'Seattle',\n",
       " 'New York City',\n",
       " 'Dallas']"
      ]
     },
     "execution_count": 95,
     "metadata": {},
     "output_type": "execute_result"
    }
   ],
   "source": [
    "cities"
   ]
  },
  {
   "cell_type": "code",
   "execution_count": 96,
   "id": "9f5f6bb3-05d3-4123-8f4d-b643ffa60d0d",
   "metadata": {},
   "outputs": [],
   "source": [
    "holding_pop_city = cities.pop(3)"
   ]
  },
  {
   "cell_type": "code",
   "execution_count": 97,
   "id": "c931c632-1e15-417d-9392-bb34701f63c2",
   "metadata": {},
   "outputs": [
    {
     "data": {
      "text/plain": [
       "['Texas',\n",
       " 'Atlanta',\n",
       " 'Baltimore',\n",
       " 'Los Angeles',\n",
       " 'Seattle',\n",
       " 'New York City',\n",
       " 'Dallas']"
      ]
     },
     "execution_count": 97,
     "metadata": {},
     "output_type": "execute_result"
    }
   ],
   "source": [
    "cities"
   ]
  },
  {
   "cell_type": "code",
   "execution_count": 98,
   "id": "9f35156c-dcde-41d7-9d87-a97b0e85c9ef",
   "metadata": {},
   "outputs": [
    {
     "ename": "NameError",
     "evalue": "name 'holding_pop_cities' is not defined",
     "output_type": "error",
     "traceback": [
      "\u001b[1;31m---------------------------------------------------------------------------\u001b[0m",
      "\u001b[1;31mNameError\u001b[0m                                 Traceback (most recent call last)",
      "Cell \u001b[1;32mIn[98], line 1\u001b[0m\n\u001b[1;32m----> 1\u001b[0m holding_pop_cities\n",
      "\u001b[1;31mNameError\u001b[0m: name 'holding_pop_cities' is not defined"
     ]
    }
   ],
   "source": [
    "holding_pop_cities"
   ]
  },
  {
   "cell_type": "code",
   "execution_count": 99,
   "id": "b030e675-2ec8-4deb-a182-416ef78480dc",
   "metadata": {},
   "outputs": [
    {
     "data": {
      "text/plain": [
       "'Chicago'"
      ]
     },
     "execution_count": 99,
     "metadata": {},
     "output_type": "execute_result"
    }
   ],
   "source": [
    "holding_pop_city"
   ]
  },
  {
   "cell_type": "code",
   "execution_count": 100,
   "id": "69d50004-883b-49f9-a5f4-5d7999b82b65",
   "metadata": {},
   "outputs": [
    {
     "data": {
      "text/plain": [
       "['Texas',\n",
       " 'Atlanta',\n",
       " 'Baltimore',\n",
       " 'Los Angeles',\n",
       " 'Seattle',\n",
       " 'New York City',\n",
       " 'Dallas']"
      ]
     },
     "execution_count": 100,
     "metadata": {},
     "output_type": "execute_result"
    }
   ],
   "source": [
    "cities"
   ]
  },
  {
   "cell_type": "code",
   "execution_count": 101,
   "id": "5bd7e7c9-755b-454e-a4e4-832c98de61e9",
   "metadata": {},
   "outputs": [],
   "source": [
    "tasks = ['prayingFajr', 'running', 'studying', 'eating']\n",
    "tasks_done = []"
   ]
  },
  {
   "cell_type": "code",
   "execution_count": 102,
   "id": "8c05deaf-1429-48ce-b070-64520fc96904",
   "metadata": {},
   "outputs": [],
   "source": [
    "tasks_done.append(tasks.pop(0))"
   ]
  },
  {
   "cell_type": "code",
   "execution_count": 103,
   "id": "fb9db24e-9394-40f9-8bac-608e2734e988",
   "metadata": {},
   "outputs": [
    {
     "data": {
      "text/plain": [
       "['running', 'studying', 'eating']"
      ]
     },
     "execution_count": 103,
     "metadata": {},
     "output_type": "execute_result"
    }
   ],
   "source": [
    "tasks"
   ]
  },
  {
   "cell_type": "code",
   "execution_count": 104,
   "id": "4e62ada5-00f6-41d0-a517-8dc3bbd14954",
   "metadata": {},
   "outputs": [
    {
     "data": {
      "text/plain": [
       "['prayingFajr']"
      ]
     },
     "execution_count": 104,
     "metadata": {},
     "output_type": "execute_result"
    }
   ],
   "source": [
    "tasks_done"
   ]
  },
  {
   "cell_type": "markdown",
   "id": "da83f15a-6430-4346-8b14-0caccdd18a30",
   "metadata": {},
   "source": [
    "### Extras"
   ]
  },
  {
   "cell_type": "code",
   "execution_count": 105,
   "id": "92929f85-7b2d-4828-becb-cc1470109344",
   "metadata": {},
   "outputs": [
    {
     "data": {
      "text/plain": [
       "['prayingFajr']"
      ]
     },
     "execution_count": 105,
     "metadata": {},
     "output_type": "execute_result"
    }
   ],
   "source": [
    "tasks_done"
   ]
  },
  {
   "cell_type": "code",
   "execution_count": 108,
   "id": "12a254d0-3a58-486b-975d-313b99064424",
   "metadata": {},
   "outputs": [],
   "source": [
    "tasks_done.clear() # remove all values from list and made emptyy"
   ]
  },
  {
   "cell_type": "code",
   "execution_count": 107,
   "id": "b8251598-27cd-4623-9905-89ce78ee71b9",
   "metadata": {},
   "outputs": [
    {
     "data": {
      "text/plain": [
       "[]"
      ]
     },
     "execution_count": 107,
     "metadata": {},
     "output_type": "execute_result"
    }
   ],
   "source": [
    "tasks_done"
   ]
  },
  {
   "cell_type": "markdown",
   "id": "763ddc72-2ac5-4409-88fc-38470d457c28",
   "metadata": {},
   "source": [
    "#### Concepts of Shallow and Deep Copying"
   ]
  },
  {
   "cell_type": "code",
   "execution_count": null,
   "id": "6599bf4e-5d73-4d4b-9e19-d28201352806",
   "metadata": {},
   "outputs": [],
   "source": [
    "'''\n",
    "Shallow copy:\n",
    "- Referencing the same original\n",
    "- Changing in original can effect the copy\n",
    "\n",
    "Deep Copy:\n",
    "- Created Separate Copy\n",
    "'''"
   ]
  },
  {
   "cell_type": "code",
   "execution_count": 109,
   "id": "083773e8-9e08-4340-ac9f-2957a196827f",
   "metadata": {},
   "outputs": [],
   "source": [
    "todolist = tasks.copy()"
   ]
  },
  {
   "cell_type": "code",
   "execution_count": 110,
   "id": "5b117960-74aa-42d1-830c-5340e5e59106",
   "metadata": {},
   "outputs": [
    {
     "data": {
      "text/plain": [
       "['running', 'studying', 'eating']"
      ]
     },
     "execution_count": 110,
     "metadata": {},
     "output_type": "execute_result"
    }
   ],
   "source": [
    "todolist"
   ]
  },
  {
   "cell_type": "code",
   "execution_count": 111,
   "id": "076ec7b1-2341-4be6-a2fb-bc7b70d8635a",
   "metadata": {},
   "outputs": [
    {
     "data": {
      "text/plain": [
       "1218489706240"
      ]
     },
     "execution_count": 111,
     "metadata": {},
     "output_type": "execute_result"
    }
   ],
   "source": [
    "id(todolist)"
   ]
  },
  {
   "cell_type": "code",
   "execution_count": 112,
   "id": "55cf4e1c-d8f7-4e50-ba88-876b7dacca5c",
   "metadata": {},
   "outputs": [
    {
     "data": {
      "text/plain": [
       "1218487881088"
      ]
     },
     "execution_count": 112,
     "metadata": {},
     "output_type": "execute_result"
    }
   ],
   "source": [
    "id(tasks)"
   ]
  },
  {
   "cell_type": "code",
   "execution_count": 113,
   "id": "6292077e-da78-4179-aadb-c164e3b88c30",
   "metadata": {},
   "outputs": [],
   "source": [
    "tasks.append(\"Shopping\")"
   ]
  },
  {
   "cell_type": "code",
   "execution_count": 114,
   "id": "1a70449e-d3f4-4092-807a-a3167544cc0c",
   "metadata": {},
   "outputs": [
    {
     "data": {
      "text/plain": [
       "['running', 'studying', 'eating']"
      ]
     },
     "execution_count": 114,
     "metadata": {},
     "output_type": "execute_result"
    }
   ],
   "source": [
    "todolist"
   ]
  },
  {
   "cell_type": "code",
   "execution_count": 115,
   "id": "bbc61aa9-e22a-447b-b1f3-dffc2875e5a4",
   "metadata": {},
   "outputs": [
    {
     "data": {
      "text/plain": [
       "['running', 'studying', 'eating', 'Shopping']"
      ]
     },
     "execution_count": 115,
     "metadata": {},
     "output_type": "execute_result"
    }
   ],
   "source": [
    "tasks"
   ]
  },
  {
   "cell_type": "code",
   "execution_count": 116,
   "id": "e54539d2-08d1-4c81-a711-9a1774fa9c81",
   "metadata": {},
   "outputs": [],
   "source": [
    "todolist.append(\"Hiking\")"
   ]
  },
  {
   "cell_type": "code",
   "execution_count": 117,
   "id": "4dd641ba-b016-449d-81d4-b297eab7ee3e",
   "metadata": {},
   "outputs": [
    {
     "data": {
      "text/plain": [
       "['running', 'studying', 'eating', 'Shopping']"
      ]
     },
     "execution_count": 117,
     "metadata": {},
     "output_type": "execute_result"
    }
   ],
   "source": [
    "tasks"
   ]
  },
  {
   "cell_type": "code",
   "execution_count": 118,
   "id": "1efdbadb-ed68-4e1e-a20b-3dae58e88da2",
   "metadata": {},
   "outputs": [
    {
     "data": {
      "text/plain": [
       "['running', 'studying', 'eating', 'Hiking']"
      ]
     },
     "execution_count": 118,
     "metadata": {},
     "output_type": "execute_result"
    }
   ],
   "source": [
    "todolist"
   ]
  },
  {
   "cell_type": "code",
   "execution_count": 119,
   "id": "f6ffb456-8a81-4088-8ec6-31411309f4d8",
   "metadata": {},
   "outputs": [],
   "source": [
    "todolist = tasks.copy()"
   ]
  },
  {
   "cell_type": "code",
   "execution_count": 120,
   "id": "4c4f27ac-17d7-4a75-8bdc-f874c1b0fa11",
   "metadata": {},
   "outputs": [
    {
     "data": {
      "text/plain": [
       "['running', 'studying', 'eating', 'Shopping']"
      ]
     },
     "execution_count": 120,
     "metadata": {},
     "output_type": "execute_result"
    }
   ],
   "source": [
    "todolist"
   ]
  },
  {
   "cell_type": "code",
   "execution_count": 121,
   "id": "74af3331-0163-4684-964c-257dfe827be1",
   "metadata": {},
   "outputs": [
    {
     "data": {
      "text/plain": [
       "['running', 'studying', 'eating', 'Shopping']"
      ]
     },
     "execution_count": 121,
     "metadata": {},
     "output_type": "execute_result"
    }
   ],
   "source": [
    "tasks"
   ]
  },
  {
   "cell_type": "code",
   "execution_count": null,
   "id": "4f53c9de-cf92-4baa-a1db-933ef0a04420",
   "metadata": {},
   "outputs": [],
   "source": []
  }
 ],
 "metadata": {
  "kernelspec": {
   "display_name": "Python 3 (ipykernel)",
   "language": "python",
   "name": "python3"
  },
  "language_info": {
   "codemirror_mode": {
    "name": "ipython",
    "version": 3
   },
   "file_extension": ".py",
   "mimetype": "text/x-python",
   "name": "python",
   "nbconvert_exporter": "python",
   "pygments_lexer": "ipython3",
   "version": "3.11.7"
  }
 },
 "nbformat": 4,
 "nbformat_minor": 5
}
