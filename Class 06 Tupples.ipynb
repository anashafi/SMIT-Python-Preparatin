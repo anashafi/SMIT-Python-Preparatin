{
 "cells": [
  {
   "cell_type": "code",
   "execution_count": 1,
   "id": "2e1c2ccb-b45b-44ab-b3e9-85ccedb86a4a",
   "metadata": {},
   "outputs": [
    {
     "name": "stdout",
     "output_type": "stream",
     "text": [
      "Bismillah\n"
     ]
    }
   ],
   "source": [
    "print (\"Bismillah\")"
   ]
  },
  {
   "cell_type": "markdown",
   "id": "c905481f-7040-4d88-b9ea-806ae7be4827",
   "metadata": {},
   "source": [
    "### List"
   ]
  },
  {
   "cell_type": "code",
   "execution_count": 2,
   "id": "7db193eb-922c-43c9-9a02-15753139b916",
   "metadata": {},
   "outputs": [],
   "source": [
    "bio_data = ['Anas', 'Student', '9to12']"
   ]
  },
  {
   "cell_type": "code",
   "execution_count": 3,
   "id": "218d0463-a6bc-4306-8e32-03f103d7d3b3",
   "metadata": {},
   "outputs": [
    {
     "data": {
      "text/plain": [
       "['Anas', 'Student', '9to12']"
      ]
     },
     "execution_count": 3,
     "metadata": {},
     "output_type": "execute_result"
    }
   ],
   "source": [
    "bio_data"
   ]
  },
  {
   "cell_type": "markdown",
   "id": "0ad0e989-095f-49b5-9c82-131cea6855ed",
   "metadata": {},
   "source": [
    "### Tupples\n",
    "1 immutable (can't be change)"
   ]
  },
  {
   "cell_type": "code",
   "execution_count": 4,
   "id": "a3eac000-ede9-4d9f-a4a0-0cdee9c5afdc",
   "metadata": {},
   "outputs": [],
   "source": [
    "tp_bio_data = ('Anas', 'Student', '9to12')"
   ]
  },
  {
   "cell_type": "code",
   "execution_count": 5,
   "id": "9d7761f8-3f22-46f0-acb1-86ebc6b7551f",
   "metadata": {},
   "outputs": [
    {
     "data": {
      "text/plain": [
       "tuple"
      ]
     },
     "execution_count": 5,
     "metadata": {},
     "output_type": "execute_result"
    }
   ],
   "source": [
    "type(tp_bio_data)"
   ]
  },
  {
   "cell_type": "code",
   "execution_count": 7,
   "id": "0c11fe09-18a2-4858-8de0-55d633e158c4",
   "metadata": {},
   "outputs": [
    {
     "name": "stdout",
     "output_type": "stream",
     "text": [
      "<class 'list'>\n"
     ]
    }
   ],
   "source": [
    "lst =[1]\n",
    "print(type(lst))"
   ]
  },
  {
   "cell_type": "code",
   "execution_count": 10,
   "id": "02dce34a-6de4-4bac-9129-a799def9fd64",
   "metadata": {},
   "outputs": [
    {
     "name": "stdout",
     "output_type": "stream",
     "text": [
      "<class 'list'>\n",
      "<class 'int'>\n",
      "<class 'tuple'>\n"
     ]
    }
   ],
   "source": [
    "lst =[1]\n",
    "print(type(lst))\n",
    "\n",
    "tp = (1)\n",
    "print(type(tp))\n",
    "\n",
    "tp = (1,)\n",
    "print(type(tp))\n",
    "\n"
   ]
  },
  {
   "cell_type": "code",
   "execution_count": 13,
   "id": "bee9313a-5ace-4b55-a6ac-6455c1c7ce72",
   "metadata": {},
   "outputs": [],
   "source": [
    "tp_bio_data = [2]"
   ]
  },
  {
   "cell_type": "code",
   "execution_count": 14,
   "id": "4c5f22ac-b02e-4d44-ac95-b13753debfec",
   "metadata": {},
   "outputs": [
    {
     "data": {
      "text/plain": [
       "[2]"
      ]
     },
     "execution_count": 14,
     "metadata": {},
     "output_type": "execute_result"
    }
   ],
   "source": [
    "tp_bio_data"
   ]
  },
  {
   "cell_type": "code",
   "execution_count": 15,
   "id": "c1d5f5df-fb75-46d7-ba85-0bd50ae7bce5",
   "metadata": {},
   "outputs": [],
   "source": [
    "tp_bio_data = ('Anas', 'Student', '9to12')"
   ]
  },
  {
   "cell_type": "code",
   "execution_count": 16,
   "id": "bd52da19-7086-46c0-b457-dc551efd974e",
   "metadata": {},
   "outputs": [
    {
     "data": {
      "text/plain": [
       "('Anas', 'Student', '9to12')"
      ]
     },
     "execution_count": 16,
     "metadata": {},
     "output_type": "execute_result"
    }
   ],
   "source": [
    "tp_bio_data"
   ]
  },
  {
   "cell_type": "code",
   "execution_count": 17,
   "id": "2870a7d1-10d8-497b-8d9b-ec23d1015e95",
   "metadata": {},
   "outputs": [
    {
     "data": {
      "text/plain": [
       "'9to12'"
      ]
     },
     "execution_count": 17,
     "metadata": {},
     "output_type": "execute_result"
    }
   ],
   "source": [
    "tp_bio_data[2]"
   ]
  },
  {
   "cell_type": "code",
   "execution_count": 18,
   "id": "75527011-7ded-4fac-ae54-2a9d56045c5d",
   "metadata": {},
   "outputs": [
    {
     "ename": "TypeError",
     "evalue": "tuple.count() takes exactly one argument (0 given)",
     "output_type": "error",
     "traceback": [
      "\u001b[1;31m---------------------------------------------------------------------------\u001b[0m",
      "\u001b[1;31mTypeError\u001b[0m                                 Traceback (most recent call last)",
      "Cell \u001b[1;32mIn[18], line 1\u001b[0m\n\u001b[1;32m----> 1\u001b[0m tp_bio_data\u001b[38;5;241m.\u001b[39mcount()\n",
      "\u001b[1;31mTypeError\u001b[0m: tuple.count() takes exactly one argument (0 given)"
     ]
    }
   ],
   "source": [
    "tp_bio_data.count()"
   ]
  },
  {
   "cell_type": "code",
   "execution_count": 19,
   "id": "8400412a-e69e-4ad5-910c-9c8bce67956e",
   "metadata": {},
   "outputs": [
    {
     "data": {
      "text/plain": [
       "1"
      ]
     },
     "execution_count": 19,
     "metadata": {},
     "output_type": "execute_result"
    }
   ],
   "source": [
    "tp_bio_data.count('Anas')"
   ]
  },
  {
   "cell_type": "code",
   "execution_count": 20,
   "id": "2327c477-d053-4fbe-b945-3602058119cb",
   "metadata": {},
   "outputs": [
    {
     "data": {
      "text/plain": [
       "0"
      ]
     },
     "execution_count": 20,
     "metadata": {},
     "output_type": "execute_result"
    }
   ],
   "source": [
    "tp_bio_data.index('Anas')"
   ]
  },
  {
   "cell_type": "code",
   "execution_count": 21,
   "id": "31ef7ed9-0c84-4c3d-a970-f490a30f75fe",
   "metadata": {},
   "outputs": [
    {
     "data": {
      "text/plain": [
       "0"
      ]
     },
     "execution_count": 21,
     "metadata": {},
     "output_type": "execute_result"
    }
   ],
   "source": [
    "tp_bio_data.count(['Anas', '9to12'])"
   ]
  },
  {
   "cell_type": "code",
   "execution_count": 30,
   "id": "e68b4693-15b8-4ebb-876a-f14f2b846d30",
   "metadata": {},
   "outputs": [
    {
     "name": "stdout",
     "output_type": "stream",
     "text": [
      "2\n"
     ]
    }
   ],
   "source": [
    "tp_my_data = ('Anas', 24, 56)\n",
    "print(tp_my_data.index(56))\n"
   ]
  },
  {
   "cell_type": "code",
   "execution_count": 23,
   "id": "18c8c466-3440-49a0-8319-e4c2ebe98921",
   "metadata": {},
   "outputs": [
    {
     "data": {
      "text/plain": [
       "('Anas', 24, 56)"
      ]
     },
     "execution_count": 23,
     "metadata": {},
     "output_type": "execute_result"
    }
   ],
   "source": [
    "tp_my_data"
   ]
  },
  {
   "cell_type": "code",
   "execution_count": 24,
   "id": "3273f85c-d31f-44bc-b38f-fbd61692b3f3",
   "metadata": {},
   "outputs": [
    {
     "ename": "AttributeError",
     "evalue": "'tuple' object has no attribute 'indes'",
     "output_type": "error",
     "traceback": [
      "\u001b[1;31m---------------------------------------------------------------------------\u001b[0m",
      "\u001b[1;31mAttributeError\u001b[0m                            Traceback (most recent call last)",
      "Cell \u001b[1;32mIn[24], line 1\u001b[0m\n\u001b[1;32m----> 1\u001b[0m tp_bio_data\u001b[38;5;241m.\u001b[39mindes(\u001b[38;5;241m56\u001b[39m)\n",
      "\u001b[1;31mAttributeError\u001b[0m: 'tuple' object has no attribute 'indes'"
     ]
    }
   ],
   "source": [
    "tp_bio_data.indes(56)"
   ]
  },
  {
   "cell_type": "code",
   "execution_count": 28,
   "id": "51941bfa-d532-47fd-9972-ed95acc913a8",
   "metadata": {},
   "outputs": [
    {
     "ename": "TypeError",
     "evalue": "'builtin_function_or_method' object is not subscriptable",
     "output_type": "error",
     "traceback": [
      "\u001b[1;31m---------------------------------------------------------------------------\u001b[0m",
      "\u001b[1;31mTypeError\u001b[0m                                 Traceback (most recent call last)",
      "Cell \u001b[1;32mIn[28], line 1\u001b[0m\n\u001b[1;32m----> 1\u001b[0m tp_bio_data\u001b[38;5;241m.\u001b[39mindex[\u001b[38;5;241m56\u001b[39m]\n",
      "\u001b[1;31mTypeError\u001b[0m: 'builtin_function_or_method' object is not subscriptable"
     ]
    }
   ],
   "source": [
    "tp_bio_data.index[56]"
   ]
  },
  {
   "cell_type": "code",
   "execution_count": 32,
   "id": "66067bc9-d35b-4721-b537-5d53aca663e7",
   "metadata": {},
   "outputs": [
    {
     "name": "stdout",
     "output_type": "stream",
     "text": [
      "2\n",
      "1\n"
     ]
    }
   ],
   "source": [
    "tp_my_data = ('Anas', 24, 56)\n",
    "print(tp_my_data.index(56))\n",
    "print(tp_my_data.count('Anas'))"
   ]
  },
  {
   "cell_type": "markdown",
   "id": "4b5e1e98-baf1-4ed9-a24a-0243505c24e5",
   "metadata": {},
   "source": [
    "### Loops"
   ]
  },
  {
   "cell_type": "code",
   "execution_count": 35,
   "id": "44063a09-dd06-43e8-8c68-352f15e69755",
   "metadata": {},
   "outputs": [],
   "source": [
    "fruits = ('Apples', 'Mango', 'Banana')"
   ]
  },
  {
   "cell_type": "code",
   "execution_count": 37,
   "id": "ace6a97f-515a-4617-b0ea-4971ba66dc76",
   "metadata": {},
   "outputs": [
    {
     "data": {
      "text/plain": [
       "('Mango', 'Banana')"
      ]
     },
     "execution_count": 37,
     "metadata": {},
     "output_type": "execute_result"
    }
   ],
   "source": [
    "fruits[1], fruits[2]"
   ]
  },
  {
   "cell_type": "raw",
   "id": "5a345205-2a23-402e-81cf-b85bedb87554",
   "metadata": {},
   "source": []
  },
  {
   "cell_type": "code",
   "execution_count": 38,
   "id": "e26669d9-dac6-44b8-9d9f-118a6f3f2735",
   "metadata": {},
   "outputs": [
    {
     "data": {
      "text/plain": [
       "'\\nfor <temp_var> in <iterator>:\\n    <body>\\n'"
      ]
     },
     "execution_count": 38,
     "metadata": {},
     "output_type": "execute_result"
    }
   ],
   "source": [
    "'''\n",
    "for <temp_var> in <iterator>:\n",
    "    <body>\n",
    "'''"
   ]
  },
  {
   "cell_type": "code",
   "execution_count": 39,
   "id": "7a45d988-3530-41d0-b5e2-247e0822b264",
   "metadata": {},
   "outputs": [
    {
     "name": "stdout",
     "output_type": "stream",
     "text": [
      "Apples\n",
      "Mango\n",
      "Banana\n"
     ]
    }
   ],
   "source": [
    "for fruit in fruits:\n",
    "    print(fruit)\n",
    "    "
   ]
  },
  {
   "cell_type": "code",
   "execution_count": 40,
   "id": "37f2b757-5d81-4982-be0f-84c1602f42da",
   "metadata": {},
   "outputs": [
    {
     "ename": "SyntaxError",
     "evalue": "invalid syntax (2267481452.py, line 1)",
     "output_type": "error",
     "traceback": [
      "\u001b[1;36m  Cell \u001b[1;32mIn[40], line 1\u001b[1;36m\u001b[0m\n\u001b[1;33m    for my data in tp_my_data:\u001b[0m\n\u001b[1;37m           ^\u001b[0m\n\u001b[1;31mSyntaxError\u001b[0m\u001b[1;31m:\u001b[0m invalid syntax\n"
     ]
    }
   ],
   "source": [
    "for my data in tp_my_data:\n",
    "   print(my_data)"
   ]
  },
  {
   "cell_type": "code",
   "execution_count": 41,
   "id": "c382b7ba-9b58-41e3-ac85-b993e65bf5a0",
   "metadata": {},
   "outputs": [
    {
     "data": {
      "text/plain": [
       "('Anas', 24, 56)"
      ]
     },
     "execution_count": 41,
     "metadata": {},
     "output_type": "execute_result"
    }
   ],
   "source": [
    "tp_my_data"
   ]
  },
  {
   "cell_type": "code",
   "execution_count": 42,
   "id": "3502e179-bf84-4bd5-968d-c7918416f7b7",
   "metadata": {},
   "outputs": [
    {
     "name": "stdout",
     "output_type": "stream",
     "text": [
      "Anas\n",
      "24\n",
      "56\n"
     ]
    }
   ],
   "source": [
    "for data in tp_my_data:\n",
    "    print(data)"
   ]
  },
  {
   "cell_type": "code",
   "execution_count": 43,
   "id": "f3e3947f-d4ca-4d8f-ba16-30d1de5a475e",
   "metadata": {},
   "outputs": [
    {
     "name": "stdout",
     "output_type": "stream",
     "text": [
      "Anas\n",
      "24\n",
      "56\n"
     ]
    }
   ],
   "source": [
    "for data in tp_my_data:\n",
    "    print(data)"
   ]
  },
  {
   "cell_type": "markdown",
   "id": "f1fd8c6b-4d55-41ce-b8eb-c681f217871c",
   "metadata": {},
   "source": [
    "### enumerate"
   ]
  },
  {
   "cell_type": "code",
   "execution_count": 47,
   "id": "26989761-e1bd-4d28-a49b-d706a8fc9df0",
   "metadata": {},
   "outputs": [
    {
     "data": {
      "text/plain": [
       "[(0, 'Apples'), (1, 'Mango'), (2, 'Banana')]"
      ]
     },
     "execution_count": 47,
     "metadata": {},
     "output_type": "execute_result"
    }
   ],
   "source": [
    "em_fruits = enumerate(fruits)\n",
    "list(em_fruits)"
   ]
  },
  {
   "cell_type": "code",
   "execution_count": 45,
   "id": "6a1b3387-c0ca-46d5-a614-44749a0cd38a",
   "metadata": {},
   "outputs": [
    {
     "data": {
      "text/plain": [
       "<enumerate at 0x1c5e03e1670>"
      ]
     },
     "execution_count": 45,
     "metadata": {},
     "output_type": "execute_result"
    }
   ],
   "source": [
    "em_fruits"
   ]
  },
  {
   "cell_type": "code",
   "execution_count": 50,
   "id": "368c8e23-a1f2-4de2-b3d2-4f6e2001fc92",
   "metadata": {},
   "outputs": [],
   "source": [
    "tp_my_data = enumerate(tp_my_data)"
   ]
  },
  {
   "cell_type": "code",
   "execution_count": 51,
   "id": "9ba327f7-a760-4806-ab76-5e2f6102b679",
   "metadata": {},
   "outputs": [
    {
     "data": {
      "text/plain": [
       "<enumerate at 0x1c5e0402d40>"
      ]
     },
     "execution_count": 51,
     "metadata": {},
     "output_type": "execute_result"
    }
   ],
   "source": [
    "tp_my_data"
   ]
  },
  {
   "cell_type": "code",
   "execution_count": 54,
   "id": "a20550c2-4003-42b0-b371-9f1cab18d4c0",
   "metadata": {},
   "outputs": [
    {
     "data": {
      "text/plain": [
       "[(0, (0, (0, (0, 'Anas')))), (1, (1, (1, (1, 24)))), (2, (2, (2, (2, 56))))]"
      ]
     },
     "execution_count": 54,
     "metadata": {},
     "output_type": "execute_result"
    }
   ],
   "source": [
    "tp_my_data = enumerate(tp_my_data)\n",
    "list(tp_my_data)"
   ]
  },
  {
   "cell_type": "code",
   "execution_count": 57,
   "id": "c9a06330-7630-4448-ac8b-30dfcbf08088",
   "metadata": {},
   "outputs": [
    {
     "name": "stdout",
     "output_type": "stream",
     "text": [
      "Apples is at 0\n",
      "Mango is at 1\n",
      "Banana is at 2\n"
     ]
    }
   ],
   "source": [
    "for data in enumerate(fruits):\n",
    "    print(f\"{data[1]} is at {data[0]}\")"
   ]
  },
  {
   "cell_type": "code",
   "execution_count": 61,
   "id": "1e788ed9-efd9-42ed-be02-823971fffb43",
   "metadata": {},
   "outputs": [
    {
     "name": "stdout",
     "output_type": "stream",
     "text": [
      "[0, 1, 2]\n"
     ]
    }
   ],
   "source": [
    "# make sure index should be in sequence\n",
    "# if the indes list gretaer than\n",
    "\n",
    "fruits_index = [0,1,2]\n",
    "print(fruits_index)\n"
   ]
  },
  {
   "cell_type": "code",
   "execution_count": 62,
   "id": "5b869927-648d-4ae1-aadc-31e7a24628f1",
   "metadata": {},
   "outputs": [
    {
     "name": "stdout",
     "output_type": "stream",
     "text": [
      "(0, 'Apples')\n",
      "(1, 'Mango')\n",
      "(2, 'Banana')\n"
     ]
    }
   ],
   "source": [
    "for data in zip(fruits_index, fruits):\n",
    "    print(data)"
   ]
  },
  {
   "cell_type": "code",
   "execution_count": 63,
   "id": "6f172808-4b72-46f6-be22-ecaab52f0892",
   "metadata": {},
   "outputs": [
    {
     "name": "stdout",
     "output_type": "stream",
     "text": [
      "[2, 1, 0]\n"
     ]
    }
   ],
   "source": [
    "fruits_index = [2,1,0]\n",
    "print(fruits_index)\n"
   ]
  },
  {
   "cell_type": "code",
   "execution_count": 64,
   "id": "f48173f6-0eda-428a-8ecd-132a07901e93",
   "metadata": {},
   "outputs": [
    {
     "name": "stdout",
     "output_type": "stream",
     "text": [
      "(2, 'Apples')\n",
      "(1, 'Mango')\n",
      "(0, 'Banana')\n"
     ]
    }
   ],
   "source": [
    "for data in zip(fruits_index, fruits):\n",
    "    print(data)"
   ]
  },
  {
   "cell_type": "code",
   "execution_count": 68,
   "id": "bf076b09-9e30-43c2-ae61-4d4d433d60ba",
   "metadata": {},
   "outputs": [
    {
     "name": "stdout",
     "output_type": "stream",
     "text": [
      "Apples\n",
      "Mango\n",
      "Banana\n"
     ]
    }
   ],
   "source": [
    "for data in zip(fruits_index, fruits):\n",
    "    print(data[1])"
   ]
  },
  {
   "cell_type": "markdown",
   "id": "feb1e4c5-43d6-4bc6-8aac-75c360e05fb3",
   "metadata": {},
   "source": [
    "### Range"
   ]
  },
  {
   "cell_type": "code",
   "execution_count": 69,
   "id": "88095dfb-69da-4788-8056-7b3dce244186",
   "metadata": {},
   "outputs": [
    {
     "name": "stdout",
     "output_type": "stream",
     "text": [
      "0\n",
      "1\n",
      "2\n",
      "3\n",
      "4\n",
      "5\n",
      "6\n",
      "7\n",
      "8\n",
      "9\n"
     ]
    }
   ],
   "source": [
    "for temp in range(10):\n",
    "    print(temp)"
   ]
  },
  {
   "cell_type": "code",
   "execution_count": 70,
   "id": "28bfc843-0fa5-4cbd-8306-cdcb53d7539d",
   "metadata": {},
   "outputs": [
    {
     "name": "stdout",
     "output_type": "stream",
     "text": [
      "2\n",
      "3\n",
      "4\n",
      "5\n"
     ]
    }
   ],
   "source": [
    "for temp in range(2,6):\n",
    "    print(temp)"
   ]
  },
  {
   "cell_type": "code",
   "execution_count": 71,
   "id": "e011b361-4345-4509-aec6-dd93960fe000",
   "metadata": {},
   "outputs": [
    {
     "name": "stdout",
     "output_type": "stream",
     "text": [
      "2\n"
     ]
    }
   ],
   "source": [
    "for temp in range(2, 5, 3):\n",
    "    print(temp)"
   ]
  },
  {
   "cell_type": "code",
   "execution_count": 72,
   "id": "db3141f3-dab2-406e-a9d3-b53e6507daf4",
   "metadata": {},
   "outputs": [
    {
     "name": "stdout",
     "output_type": "stream",
     "text": [
      "1\n",
      "3\n",
      "5\n",
      "7\n",
      "9\n"
     ]
    }
   ],
   "source": [
    "for temp in range(1, 10, 2):\n",
    "    print(temp)"
   ]
  },
  {
   "cell_type": "code",
   "execution_count": 73,
   "id": "af0c2eed-1e01-4037-bc75-9ae2a400cd6c",
   "metadata": {},
   "outputs": [
    {
     "name": "stdout",
     "output_type": "stream",
     "text": [
      "20\n",
      "23\n"
     ]
    }
   ],
   "source": [
    "for num in range(20, 25, 3):\n",
    "    print(num)"
   ]
  },
  {
   "cell_type": "code",
   "execution_count": 74,
   "id": "716e2e3a-73ff-4513-9b12-a4edb460b155",
   "metadata": {},
   "outputs": [
    {
     "name": "stdout",
     "output_type": "stream",
     "text": [
      "apple\n",
      "apple\n",
      "apple\n",
      "apple\n",
      "apple\n",
      "apple\n",
      "apple\n",
      "apple\n",
      "apple\n",
      "apple\n",
      "apple\n",
      "apple\n",
      "apple\n",
      "apple\n",
      "apple\n"
     ]
    }
   ],
   "source": [
    "for i in range(15):\n",
    "    print('apple')"
   ]
  },
  {
   "cell_type": "code",
   "execution_count": 76,
   "id": "ddd99c45-cfa9-4fcb-91c1-b1ff5d394333",
   "metadata": {},
   "outputs": [
    {
     "name": "stdout",
     "output_type": "stream",
     "text": [
      "apple\n",
      "apple\n",
      "apple\n",
      "apple\n",
      "apple\n",
      "apple\n",
      "apple\n",
      "apple\n",
      "apple\n",
      "apple\n",
      "apple\n",
      "apple\n",
      "apple\n",
      "apple\n",
      "apple\n",
      "\n"
     ]
    }
   ],
   "source": [
    "print('apple\\n'*15)"
   ]
  },
  {
   "cell_type": "code",
   "execution_count": 77,
   "id": "e0d01e5b-24d1-41f2-a846-8bc5a20a2adb",
   "metadata": {},
   "outputs": [],
   "source": [
    "clean_cities = ['Karachi', 'Lahore', 'Islamabad']\n",
    "not_clean = ['Multan']"
   ]
  },
  {
   "cell_type": "code",
   "execution_count": 80,
   "id": "69c77ff3-016a-4baa-8542-c5f688166230",
   "metadata": {},
   "outputs": [
    {
     "name": "stdin",
     "output_type": "stream",
     "text": [
      "Enter Your City Name Multan\n"
     ]
    }
   ],
   "source": [
    "cleanest_city = input(\"Enter Your City Name\")\n"
   ]
  },
  {
   "cell_type": "code",
   "execution_count": 79,
   "id": "8c715793-164d-49eb-ba12-d18038c99c68",
   "metadata": {},
   "outputs": [
    {
     "ename": "SyntaxError",
     "evalue": "invalid syntax (1400906245.py, line 1)",
     "output_type": "error",
     "traceback": [
      "\u001b[1;36m  Cell \u001b[1;32mIn[79], line 1\u001b[1;36m\u001b[0m\n\u001b[1;33m    for cleanest_city = clean_ci\u001b[0m\n\u001b[1;37m                      ^\u001b[0m\n\u001b[1;31mSyntaxError\u001b[0m\u001b[1;31m:\u001b[0m invalid syntax\n"
     ]
    }
   ],
   "source": [
    "for cleanest_city = clean_ci"
   ]
  },
  {
   "cell_type": "code",
   "execution_count": 89,
   "id": "54275e17-3c5b-42dc-b265-94fa8c5d6052",
   "metadata": {},
   "outputs": [
    {
     "name": "stdin",
     "output_type": "stream",
     "text": [
      "Enter your City Name Quetta\n"
     ]
    }
   ],
   "source": [
    "clean_cities = ['Karachi', 'Lahore', 'Islamabad']\n",
    "not_clean = ['Multan']\n",
    "if cleanest_city in clean_cities:\n",
    "    print(\"Your City is Clean\")\n",
    "else:\n",
    "    not_clean.append(cleanest_city)\n",
    "    \n",
    "cleanest_city = input(\"Enter your City Name\")"
   ]
  },
  {
   "cell_type": "code",
   "execution_count": 84,
   "id": "f81c4a37-c2cc-46db-975f-9ac0ac6b3621",
   "metadata": {},
   "outputs": [
    {
     "data": {
      "text/plain": [
       "['Multan', 'Quetta']"
      ]
     },
     "execution_count": 84,
     "metadata": {},
     "output_type": "execute_result"
    }
   ],
   "source": [
    "not_clean"
   ]
  },
  {
   "cell_type": "code",
   "execution_count": 86,
   "id": "613f0bfc-2525-4929-9a24-9e08dcbbb32b",
   "metadata": {},
   "outputs": [
    {
     "data": {
      "text/plain": [
       "['Multan', 'Peshawar']"
      ]
     },
     "execution_count": 86,
     "metadata": {},
     "output_type": "execute_result"
    }
   ],
   "source": [
    "not_clean"
   ]
  },
  {
   "cell_type": "code",
   "execution_count": 88,
   "id": "38637fb8-1f6c-4232-a467-1bcc229b91dd",
   "metadata": {},
   "outputs": [
    {
     "data": {
      "text/plain": [
       "['Multan', 'Peshawar']"
      ]
     },
     "execution_count": 88,
     "metadata": {},
     "output_type": "execute_result"
    }
   ],
   "source": [
    "not_clean"
   ]
  },
  {
   "cell_type": "code",
   "execution_count": 90,
   "id": "00ed88c5-e3f5-422c-be04-0de5a0907b3b",
   "metadata": {},
   "outputs": [
    {
     "data": {
      "text/plain": [
       "['Multan', 'Multan']"
      ]
     },
     "execution_count": 90,
     "metadata": {},
     "output_type": "execute_result"
    }
   ],
   "source": [
    "not_clean"
   ]
  },
  {
   "cell_type": "code",
   "execution_count": 93,
   "id": "d4961d05-f388-430f-9a6c-7b9163157940",
   "metadata": {},
   "outputs": [
    {
     "name": "stdout",
     "output_type": "stream",
     "text": [
      "Your City is Clean\n"
     ]
    },
    {
     "name": "stdin",
     "output_type": "stream",
     "text": [
      "Enter your City Name Quetta\n"
     ]
    }
   ],
   "source": [
    "clean_cities = ['Karachi', 'Lahore', 'Islamabad']\n",
    "not_clean = ['Multan']\n",
    "\n",
    "if cleanest_city in clean_cities:\n",
    "    print(\"Your City is Clean\")\n",
    "else:\n",
    "    not_clean.append(cleanest_city)\n",
    "    \n",
    "cleanest_city = input(\"Enter your City Name\")"
   ]
  },
  {
   "cell_type": "code",
   "execution_count": 92,
   "id": "4a93438e-f826-41d0-adcf-d51295a3b4c4",
   "metadata": {},
   "outputs": [
    {
     "data": {
      "text/plain": [
       "['Karachi', 'Lahore', 'Islamabad']"
      ]
     },
     "execution_count": 92,
     "metadata": {},
     "output_type": "execute_result"
    }
   ],
   "source": [
    "clean_cities"
   ]
  },
  {
   "cell_type": "code",
   "execution_count": 94,
   "id": "69c5cca7-1c8f-47a6-ba78-b3afd4e27a5c",
   "metadata": {},
   "outputs": [
    {
     "data": {
      "text/plain": [
       "['Multan']"
      ]
     },
     "execution_count": 94,
     "metadata": {},
     "output_type": "execute_result"
    }
   ],
   "source": [
    "not_clean"
   ]
  },
  {
   "cell_type": "code",
   "execution_count": 95,
   "id": "87231995-baef-46e6-b721-b1db2c17a051",
   "metadata": {},
   "outputs": [],
   "source": [
    "group_A = ['Karachi', 'Multan', 'Peshawar']\n",
    "group_B = ['Islamabad', 'Quetta', 'Lahore']"
   ]
  },
  {
   "cell_type": "code",
   "execution_count": 96,
   "id": "e2bedd6c-ff47-4534-abcc-0d22d420e613",
   "metadata": {},
   "outputs": [
    {
     "name": "stdout",
     "output_type": "stream",
     "text": [
      "Karachi  VS  Islamabad\n",
      "Karachi  VS  Quetta\n",
      "Karachi  VS  Lahore\n",
      "Multan  VS  Islamabad\n",
      "Multan  VS  Quetta\n",
      "Multan  VS  Lahore\n",
      "Peshawar  VS  Islamabad\n",
      "Peshawar  VS  Quetta\n",
      "Peshawar  VS  Lahore\n"
     ]
    }
   ],
   "source": [
    "for a in range (len(group_A)):\n",
    "    for b in range(len(group_B)):\n",
    "        print(group_A[a], ' VS ', group_B[b])\n",
    "        if group_A[a] == group_B[b]:\n",
    "            print(\"Matched\")\n",
    "            break;"
   ]
  },
  {
   "cell_type": "code",
   "execution_count": 99,
   "id": "1d2b8223-42e2-4536-ab2f-fd76e26e158e",
   "metadata": {},
   "outputs": [
    {
     "ename": "TypeError",
     "evalue": "'list' object cannot be interpreted as an integer",
     "output_type": "error",
     "traceback": [
      "\u001b[1;31m---------------------------------------------------------------------------\u001b[0m",
      "\u001b[1;31mTypeError\u001b[0m                                 Traceback (most recent call last)",
      "Cell \u001b[1;32mIn[99], line 1\u001b[0m\n\u001b[1;32m----> 1\u001b[0m \u001b[38;5;28;01mfor\u001b[39;00m a \u001b[38;5;129;01min\u001b[39;00m \u001b[38;5;28mrange\u001b[39m(group_A):\n\u001b[0;32m      2\u001b[0m     \u001b[38;5;28;01mfor\u001b[39;00m b \u001b[38;5;129;01min\u001b[39;00m \u001b[38;5;28mrange\u001b[39m(group_B):\n\u001b[0;32m      3\u001b[0m         \u001b[38;5;28mprint\u001b[39m(group_A[a], \u001b[38;5;124m'\u001b[39m\u001b[38;5;124m VS \u001b[39m\u001b[38;5;124m'\u001b[39m, group_B[b])\n",
      "\u001b[1;31mTypeError\u001b[0m: 'list' object cannot be interpreted as an integer"
     ]
    }
   ],
   "source": [
    "for a in range(group_A):\n",
    "    for b in range(group_B):\n",
    "        print(group_A[a], ' VS ', group_B[b])\n",
    "        if group_A[a] == group_B[b]:\n",
    "            print(\"Matched\")\n",
    "            break;"
   ]
  },
  {
   "cell_type": "markdown",
   "id": "f4d71d4e-0bb1-42d1-955f-2e5128ddbcda",
   "metadata": {},
   "source": [
    "### Casing\n",
    "\n",
    "1. upper()\n",
    "2. lower()\n",
    "3. tirle()"
   ]
  },
  {
   "cell_type": "code",
   "execution_count": 100,
   "id": "9dcc26cd-33a5-444e-ab74-18a2255f88b5",
   "metadata": {},
   "outputs": [
    {
     "data": {
      "text/plain": [
       "'ANAS'"
      ]
     },
     "execution_count": 100,
     "metadata": {},
     "output_type": "execute_result"
    }
   ],
   "source": [
    "\"anas\".upper()"
   ]
  },
  {
   "cell_type": "code",
   "execution_count": 101,
   "id": "e8968a5f-0a98-4571-ab05-ddb046d0c067",
   "metadata": {},
   "outputs": [
    {
     "data": {
      "text/plain": [
       "'Anas'"
      ]
     },
     "execution_count": 101,
     "metadata": {},
     "output_type": "execute_result"
    }
   ],
   "source": [
    "\"anas\".title()"
   ]
  },
  {
   "cell_type": "markdown",
   "id": "66d775e6-1e47-4de1-90e9-ca0b28384bb7",
   "metadata": {},
   "source": [
    "### Dictionaries\n",
    "\n",
    "1. Key: Values"
   ]
  },
  {
   "cell_type": "code",
   "execution_count": 102,
   "id": "9d9029f2-a939-4ef6-a6a9-a2677d88a6e6",
   "metadata": {},
   "outputs": [],
   "source": [
    "dict = {'age': 24, 'weight': 24}"
   ]
  },
  {
   "cell_type": "code",
   "execution_count": 103,
   "id": "5455c9bb-9e00-4f99-9c3e-0514319970da",
   "metadata": {},
   "outputs": [
    {
     "name": "stdout",
     "output_type": "stream",
     "text": [
      "<class 'dict'>\n"
     ]
    }
   ],
   "source": [
    "print(type(dict))"
   ]
  },
  {
   "cell_type": "code",
   "execution_count": 104,
   "id": "828848d2-acc7-4d5c-8d07-b7804d1e613a",
   "metadata": {},
   "outputs": [
    {
     "data": {
      "text/plain": [
       "24"
      ]
     },
     "execution_count": 104,
     "metadata": {},
     "output_type": "execute_result"
    }
   ],
   "source": [
    "dict['age']"
   ]
  },
  {
   "cell_type": "code",
   "execution_count": 105,
   "id": "97f09d65-d2ce-4bba-a1c9-582854d83a86",
   "metadata": {},
   "outputs": [
    {
     "data": {
      "text/plain": [
       "24"
      ]
     },
     "execution_count": 105,
     "metadata": {},
     "output_type": "execute_result"
    }
   ],
   "source": [
    "dict['weight']"
   ]
  },
  {
   "cell_type": "code",
   "execution_count": 106,
   "id": "d69f5725-932e-4e08-90e5-8b44c918b6a3",
   "metadata": {},
   "outputs": [],
   "source": [
    "customer = {\"first name\": \"Muhammad\",\n",
    "            \"last name\": \"Anas\",\n",
    "            \"address\": \"Federal B Area Block 15\"}\n"
   ]
  },
  {
   "cell_type": "code",
   "execution_count": 107,
   "id": "b76b3db2-1cbf-4050-8c89-2abb458854f7",
   "metadata": {},
   "outputs": [
    {
     "name": "stdout",
     "output_type": "stream",
     "text": [
      "<class 'dict'>\n"
     ]
    }
   ],
   "source": [
    "print(type(customer))"
   ]
  },
  {
   "cell_type": "code",
   "execution_count": 108,
   "id": "c3752334-c609-4b86-9973-539647d6ff36",
   "metadata": {},
   "outputs": [
    {
     "data": {
      "text/plain": [
       "'Federal B Area Block 15'"
      ]
     },
     "execution_count": 108,
     "metadata": {},
     "output_type": "execute_result"
    }
   ],
   "source": [
    "customer['address']"
   ]
  },
  {
   "cell_type": "code",
   "execution_count": 110,
   "id": "11d8aa8e-7077-4166-a3af-0fa64181d5a5",
   "metadata": {},
   "outputs": [],
   "source": [
    "#Keys can be a number\n",
    "\n",
    "dict_versatility =  {1: 'Anas',\n",
    "                     2: 'Muhammad',\n",
    "                     3: 'Shafi'}"
   ]
  },
  {
   "cell_type": "code",
   "execution_count": 111,
   "id": "385032f4-e379-448d-ad0b-ff3273e094ed",
   "metadata": {},
   "outputs": [],
   "source": [
    "dict_versatility1=  {\"Anas\":1,\n",
    "                     \"Muhammad\":2,\n",
    "                     \"Shafi\":3}"
   ]
  },
  {
   "cell_type": "code",
   "execution_count": 112,
   "id": "e0b31a74-69e2-4595-b06f-eff8770f1fc5",
   "metadata": {},
   "outputs": [
    {
     "data": {
      "text/plain": [
       "'Muhammad'"
      ]
     },
     "execution_count": 112,
     "metadata": {},
     "output_type": "execute_result"
    }
   ],
   "source": [
    "dict_versatility[2]"
   ]
  },
  {
   "cell_type": "code",
   "execution_count": 114,
   "id": "6d73210d-0c0a-4255-ae9d-3e0319529ecc",
   "metadata": {},
   "outputs": [
    {
     "ename": "SyntaxError",
     "evalue": "unterminated string literal (detected at line 1) (3272059359.py, line 1)",
     "output_type": "error",
     "traceback": [
      "\u001b[1;36m  Cell \u001b[1;32mIn[114], line 1\u001b[1;36m\u001b[0m\n\u001b[1;33m    things_to_remember = {0: \"the lowest number\", \"a\u001b[0m\n\u001b[1;37m                                                  ^\u001b[0m\n\u001b[1;31mSyntaxError\u001b[0m\u001b[1;31m:\u001b[0m unterminated string literal (detected at line 1)\n"
     ]
    }
   ],
   "source": [
    "things_to_remember = {0: \"the lowest number\", \"a\n",
    "dozen\": 12, \"snake eyes\": \"a pair of ones\", 13: \"a\n",
    "baker's dozen\"}\n"
   ]
  },
  {
   "cell_type": "code",
   "execution_count": 115,
   "id": "a3b7eeb2-6cbf-44ba-91b2-b9be11378311",
   "metadata": {},
   "outputs": [],
   "source": [
    "# add value \n",
    "\n",
    "customer[\"phone\"] = 3322757675"
   ]
  },
  {
   "cell_type": "code",
   "execution_count": 116,
   "id": "15d0114a-56bb-4bae-b829-6f3c71d631cb",
   "metadata": {},
   "outputs": [
    {
     "data": {
      "text/plain": [
       "{'first name': 'Muhammad',\n",
       " 'last name': 'Anas',\n",
       " 'address': 'Federal B Area Block 15',\n",
       " 'phone': 3322757675}"
      ]
     },
     "execution_count": 116,
     "metadata": {},
     "output_type": "execute_result"
    }
   ],
   "source": [
    "customer"
   ]
  },
  {
   "cell_type": "code",
   "execution_count": 117,
   "id": "d207f1ce-c1b6-43ab-a792-37b747335ec6",
   "metadata": {},
   "outputs": [],
   "source": [
    "customer[\"City\"] = \"Karachi\""
   ]
  },
  {
   "cell_type": "code",
   "execution_count": 118,
   "id": "0fc26049-ab9a-4652-aa65-7b587ae0a119",
   "metadata": {},
   "outputs": [
    {
     "data": {
      "text/plain": [
       "{'first name': 'Muhammad',\n",
       " 'last name': 'Anas',\n",
       " 'address': 'Federal B Area Block 15',\n",
       " 'phone': 3322757675,\n",
       " 'City': 'Karachi'}"
      ]
     },
     "execution_count": 118,
     "metadata": {},
     "output_type": "execute_result"
    }
   ],
   "source": [
    "customer"
   ]
  },
  {
   "cell_type": "code",
   "execution_count": 120,
   "id": "688cee1f-65f3-4f78-be0c-2d6c63a7fa37",
   "metadata": {},
   "outputs": [
    {
     "name": "stdin",
     "output_type": "stream",
     "text": [
      "Enter your Task 6\n"
     ]
    },
    {
     "ename": "TypeError",
     "evalue": "'str' object is not callable",
     "output_type": "error",
     "traceback": [
      "\u001b[1;31m---------------------------------------------------------------------------\u001b[0m",
      "\u001b[1;31mTypeError\u001b[0m                                 Traceback (most recent call last)",
      "Cell \u001b[1;32mIn[120], line 5\u001b[0m\n\u001b[0;32m      1\u001b[0m task_list \u001b[38;5;241m=\u001b[39m []\n\u001b[0;32m      3\u001b[0m task_list \u001b[38;5;241m=\u001b[39m \u001b[38;5;28minput\u001b[39m(\u001b[38;5;124m\"\u001b[39m\u001b[38;5;124mEnter your Task\u001b[39m\u001b[38;5;124m\"\u001b[39m)\n\u001b[1;32m----> 5\u001b[0m \u001b[38;5;28;01mfor\u001b[39;00m task \u001b[38;5;129;01min\u001b[39;00m task_list():\n\u001b[0;32m      6\u001b[0m     \u001b[38;5;28mprint\u001b[39m(task_list)\n",
      "\u001b[1;31mTypeError\u001b[0m: 'str' object is not callable"
     ]
    }
   ],
   "source": [
    "task_list = []\n",
    "\n",
    "task_list = input(\"Enter your Task\")\n",
    "\n",
    "for task in task_list():\n",
    "    print(task_list)"
   ]
  },
  {
   "cell_type": "code",
   "execution_count": 125,
   "id": "be4a569d-218a-4feb-819d-44d8839395dd",
   "metadata": {},
   "outputs": [
    {
     "name": "stdin",
     "output_type": "stream",
     "text": [
      "Enter Your Task 2\n",
      "Enter your task name: cooking\n",
      "Enter your task name: jogging\n"
     ]
    }
   ],
   "source": [
    "dictionary = {}\n",
    "taskcount = input(\"Enter Your Task\")\n",
    "\n",
    "for count in range(int(taskcount)):\n",
    "    dictionary['Task '+str(count)] = input(\"Enter your task name:\")\n",
    "    "
   ]
  },
  {
   "cell_type": "code",
   "execution_count": 122,
   "id": "c8b23de9-7f08-4b38-b8ae-71dba6fd5f9f",
   "metadata": {},
   "outputs": [
    {
     "data": {
      "text/plain": [
       "{'Task 0': 'Cooking'}"
      ]
     },
     "execution_count": 122,
     "metadata": {},
     "output_type": "execute_result"
    }
   ],
   "source": [
    "dictionary"
   ]
  },
  {
   "cell_type": "code",
   "execution_count": 124,
   "id": "c137316e-b227-49c2-a6dc-dcb0c9e03c17",
   "metadata": {},
   "outputs": [
    {
     "data": {
      "text/plain": [
       "{'Task 0': 'joggig'}"
      ]
     },
     "execution_count": 124,
     "metadata": {},
     "output_type": "execute_result"
    }
   ],
   "source": [
    "dictionary"
   ]
  },
  {
   "cell_type": "code",
   "execution_count": 126,
   "id": "4ed952b2-cef1-406d-8d1f-2e452b1ed934",
   "metadata": {},
   "outputs": [
    {
     "data": {
      "text/plain": [
       "{'Task 0': 'cooking', 'Task 1': 'jogging'}"
      ]
     },
     "execution_count": 126,
     "metadata": {},
     "output_type": "execute_result"
    }
   ],
   "source": [
    "dictionary"
   ]
  },
  {
   "cell_type": "code",
   "execution_count": 127,
   "id": "8fe53c1e-c7bc-4951-b04f-74837d231ebd",
   "metadata": {},
   "outputs": [],
   "source": [
    "customer['city'] = \"LA\""
   ]
  },
  {
   "cell_type": "code",
   "execution_count": 128,
   "id": "4d1e40cc-8d5a-445d-b511-0638551c1cc1",
   "metadata": {},
   "outputs": [
    {
     "data": {
      "text/plain": [
       "{'first name': 'Muhammad',\n",
       " 'last name': 'Anas',\n",
       " 'address': 'Federal B Area Block 15',\n",
       " 'phone': 3322757675,\n",
       " 'City': 'Karachi',\n",
       " 'city': 'LA'}"
      ]
     },
     "execution_count": 128,
     "metadata": {},
     "output_type": "execute_result"
    }
   ],
   "source": [
    "customer"
   ]
  },
  {
   "cell_type": "code",
   "execution_count": 129,
   "id": "9d0e5478-db32-47b3-8aab-e39514885874",
   "metadata": {},
   "outputs": [],
   "source": [
    "del customer['city']"
   ]
  },
  {
   "cell_type": "code",
   "execution_count": 130,
   "id": "8f693c80-a6ef-4dda-abca-e94c9773a416",
   "metadata": {},
   "outputs": [
    {
     "data": {
      "text/plain": [
       "{'first name': 'Muhammad',\n",
       " 'last name': 'Anas',\n",
       " 'address': 'Federal B Area Block 15',\n",
       " 'phone': 3322757675,\n",
       " 'City': 'Karachi'}"
      ]
     },
     "execution_count": 130,
     "metadata": {},
     "output_type": "execute_result"
    }
   ],
   "source": [
    "customer"
   ]
  },
  {
   "cell_type": "code",
   "execution_count": 132,
   "id": "b2b193bd-ccc0-4d46-be2f-88d4b902a2f6",
   "metadata": {},
   "outputs": [],
   "source": [
    "customer['City'] = \"LA\""
   ]
  },
  {
   "cell_type": "code",
   "execution_count": 133,
   "id": "7bc0ca64-44e3-4097-9b59-02c6547aaa8e",
   "metadata": {},
   "outputs": [
    {
     "data": {
      "text/plain": [
       "{'first name': 'Muhammad',\n",
       " 'last name': 'Anas',\n",
       " 'address': 'Federal B Area Block 15',\n",
       " 'phone': 3322757675,\n",
       " 'City': 'LA'}"
      ]
     },
     "execution_count": 133,
     "metadata": {},
     "output_type": "execute_result"
    }
   ],
   "source": [
    "customer"
   ]
  },
  {
   "cell_type": "markdown",
   "id": "641f0ea6-0113-46d9-b363-7cf8b776af21",
   "metadata": {},
   "source": [
    "# Looping in Dictionries"
   ]
  },
  {
   "cell_type": "code",
   "execution_count": 135,
   "id": "6eaff00f-dc75-47ef-80a0-43cfc209ea34",
   "metadata": {},
   "outputs": [
    {
     "name": "stdout",
     "output_type": "stream",
     "text": [
      "first name\n",
      "last name\n",
      "address\n",
      "phone\n",
      "City\n"
     ]
    }
   ],
   "source": [
    "# By Default show keys\n",
    "\n",
    "for temp in customer:\n",
    "    print(temp)"
   ]
  },
  {
   "cell_type": "code",
   "execution_count": 136,
   "id": "7715bba6-9437-44db-a16b-4dc79b701760",
   "metadata": {},
   "outputs": [
    {
     "name": "stdout",
     "output_type": "stream",
     "text": [
      "Muhammad\n",
      "Anas\n",
      "Federal B Area Block 15\n",
      "3322757675\n",
      "LA\n"
     ]
    }
   ],
   "source": [
    "#If we want values\n",
    "\n",
    "for temp in customer.values():\n",
    "    print(temp)"
   ]
  },
  {
   "cell_type": "code",
   "execution_count": 137,
   "id": "ef4a3cc0-6efa-4113-9ea8-430fff1252e0",
   "metadata": {},
   "outputs": [
    {
     "name": "stdout",
     "output_type": "stream",
     "text": [
      "first name\n",
      "last name\n",
      "address\n",
      "phone\n",
      "City\n"
     ]
    }
   ],
   "source": [
    "for temp in customer.keys():\n",
    "    print(temp)"
   ]
  },
  {
   "cell_type": "code",
   "execution_count": 138,
   "id": "03ff0173-0882-4672-b851-483e58439162",
   "metadata": {},
   "outputs": [
    {
     "name": "stdout",
     "output_type": "stream",
     "text": [
      "('first name', 'Muhammad')\n",
      "('last name', 'Anas')\n",
      "('address', 'Federal B Area Block 15')\n",
      "('phone', 3322757675)\n",
      "('City', 'LA')\n"
     ]
    }
   ],
   "source": [
    "# Fr both key and values we used .items() method\n",
    "\n",
    "for temp in customer.items():\n",
    "    print(temp)"
   ]
  },
  {
   "cell_type": "code",
   "execution_count": 145,
   "id": "ca0d8ff2-15c5-4e1d-8f4c-4cdca8b788b2",
   "metadata": {},
   "outputs": [
    {
     "ename": "ValueError",
     "evalue": "too many values to unpack (expected 2)",
     "output_type": "error",
     "traceback": [
      "\u001b[1;31m---------------------------------------------------------------------------\u001b[0m",
      "\u001b[1;31mValueError\u001b[0m                                Traceback (most recent call last)",
      "Cell \u001b[1;32mIn[145], line 1\u001b[0m\n\u001b[1;32m----> 1\u001b[0m \u001b[38;5;28;01mfor\u001b[39;00m key, value \u001b[38;5;129;01min\u001b[39;00m customer\u001b[38;5;241m.\u001b[39mvalues():\n\u001b[0;32m      2\u001b[0m     \u001b[38;5;28mprint\u001b[39m(key, value)\n",
      "\u001b[1;31mValueError\u001b[0m: too many values to unpack (expected 2)"
     ]
    }
   ],
   "source": [
    "for key, value in customer.values():\n",
    "    print(key, value)"
   ]
  },
  {
   "cell_type": "markdown",
   "id": "09b51c6c-cfbf-4d8a-b35e-0664c534cddd",
   "metadata": {},
   "source": [
    "### Lists of Dictionaries"
   ]
  },
  {
   "cell_type": "code",
   "execution_count": 146,
   "id": "47d475f6-31ca-493c-8a9a-bbc51f6cfffb",
   "metadata": {},
   "outputs": [
    {
     "data": {
      "text/plain": [
       "{'first name': 'Muhammad',\n",
       " 'last name': 'Anas',\n",
       " 'address': 'Federal B Area Block 15',\n",
       " 'phone': 3322757675,\n",
       " 'City': 'LA'}"
      ]
     },
     "execution_count": 146,
     "metadata": {},
     "output_type": "execute_result"
    }
   ],
   "source": [
    "customer"
   ]
  },
  {
   "cell_type": "code",
   "execution_count": 149,
   "id": "6d764e59-6071-465d-82c8-fb674564fd1c",
   "metadata": {},
   "outputs": [],
   "source": [
    "list_of_dict = [\n",
    "     {'first name': 'Muhammad',\n",
    "     'last name': 'Anas',\n",
    "     'address': 'Federal B Area Block 15',\n",
    "     'phone': 3322757675,\n",
    "     'City': 'LA'},\n",
    "    {'first name': 'Sbdul',\n",
    "     'last name': 'Samad',\n",
    "     'address': 'B Area',\n",
    "     'phone': 74873892,\n",
    "     'City': 'AG'}\n",
    "]"
   ]
  },
  {
   "cell_type": "code",
   "execution_count": 153,
   "id": "689aea6d-e56b-4a29-a8c2-8590a6dfc47e",
   "metadata": {},
   "outputs": [
    {
     "name": "stdout",
     "output_type": "stream",
     "text": [
      "Federal B Area Block 15\n",
      "B Area\n"
     ]
    }
   ],
   "source": [
    "for i in range(len(list_of_dict)):\n",
    "    print(list_of_dict[i]['address'])\n"
   ]
  },
  {
   "cell_type": "code",
   "execution_count": null,
   "id": "78ae5884-8197-4714-9e94-6e53a4735871",
   "metadata": {},
   "outputs": [],
   "source": []
  }
 ],
 "metadata": {
  "kernelspec": {
   "display_name": "Python 3 (ipykernel)",
   "language": "python",
   "name": "python3"
  },
  "language_info": {
   "codemirror_mode": {
    "name": "ipython",
    "version": 3
   },
   "file_extension": ".py",
   "mimetype": "text/x-python",
   "name": "python",
   "nbconvert_exporter": "python",
   "pygments_lexer": "ipython3",
   "version": "3.11.7"
  }
 },
 "nbformat": 4,
 "nbformat_minor": 5
}
